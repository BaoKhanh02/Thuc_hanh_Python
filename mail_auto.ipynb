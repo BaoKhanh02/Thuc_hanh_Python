{
 "cells": [
  {
   "cell_type": "code",
   "execution_count": 1,
   "id": "9614c9e1",
   "metadata": {},
   "outputs": [
    {
     "name": "stdout",
     "output_type": "stream",
     "text": [
      "Email đã gửi thành công!\n"
     ]
    }
   ],
   "source": [
    "import smtplib\n",
    "import imaplib\n",
    "import email\n",
    "from email.mime.text import MIMEText\n",
    "\n",
    "# Đọc thông tin tài khoản từ file\n",
    "with open('email_credentials.txt', 'r') as file:\n",
    "    account_info = file.readlines()\n",
    "    sender_email = account_info[0].strip()\n",
    "    app_password = account_info[1].strip()\n",
    "\n",
    "# Đọc nội dung email, người nhận, tiêu chí lọc\n",
    "with open('email_content.txt', 'r') as file:\n",
    "    email_content = file.read()\n",
    "\n",
    "with open('recipient.txt', 'r') as file:\n",
    "    recipient_email = file.read().strip()\n",
    "\n",
    "with open('email_filter.txt', 'r') as file:\n",
    "    filter_sender = file.read().strip()\n",
    "\n",
    "# Gửi email\n",
    "msg = MIMEText(email_content)\n",
    "msg['Subject'] = 'Email Tự Động'\n",
    "msg['From'] = sender_email\n",
    "msg['To'] = recipient_email\n",
    "\n",
    "try:\n",
    "    with smtplib.SMTP('smtp.gmail.com', 587) as server:\n",
    "        server.starttls()\n",
    "        server.login(sender_email, app_password)\n",
    "        server.send_message(msg)\n",
    "        print(\"Email đã gửi thành công!\")\n",
    "except Exception as e:\n",
    "    print(f\"Lỗi khi gửi email: {e}\")\n",
    "\n",
    "# Đọc email\n",
    "try:\n",
    "    with imaplib.IMAP4_SSL('imap.gmail.com') as mail:\n",
    "        mail.login(sender_email, app_password)\n",
    "        mail.select('INBOX')\n",
    "        _, data = mail.search(None, f'FROM \"{filter_sender}\"')\n",
    "        for num in data[0].split():\n",
    "            _, msg_data = mail.fetch(num, '(RFC822)')\n",
    "            email_msg = email.message_from_bytes(msg_data[0][1])\n",
    "            subject = email_msg['subject']\n",
    "            print(f\"Tiêu đề email nhận được: {subject}\")\n",
    "            if email_msg.is_multipart():\n",
    "                for part in email_msg.walk():\n",
    "                    if part.get_content_type() == 'text/plain':\n",
    "                        print(f\"Nội dung:\\n{part.get_payload(decode=True).decode()}\")\n",
    "            else:\n",
    "                print(f\"Nội dung:\\n{email_msg.get_payload(decode=True).decode()}\")\n",
    "            break  # Xử lý 1 email đầu tiên là đủ\n",
    "except Exception as e:\n",
    "    print(f\"Lỗi khi nhận email: {e}\")\n"
   ]
  }
 ],
 "metadata": {
  "kernelspec": {
   "display_name": "base",
   "language": "python",
   "name": "python3"
  },
  "language_info": {
   "codemirror_mode": {
    "name": "ipython",
    "version": 3
   },
   "file_extension": ".py",
   "mimetype": "text/x-python",
   "name": "python",
   "nbconvert_exporter": "python",
   "pygments_lexer": "ipython3",
   "version": "3.12.7"
  }
 },
 "nbformat": 4,
 "nbformat_minor": 5
}
